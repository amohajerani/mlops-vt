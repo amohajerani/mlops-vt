{
 "cells": [
  {
   "cell_type": "code",
   "execution_count": 1,
   "metadata": {},
   "outputs": [],
   "source": [
    "# import required libraries\n",
    "from azure.ai.ml import MLClient\n",
    "from azure.ai.ml.entities import (\n",
    "    ManagedOnlineEndpoint,\n",
    "    ManagedOnlineDeployment,\n",
    "    Model,\n",
    "    Environment,\n",
    "    CodeConfiguration,\n",
    ")\n",
    "from azure.identity import DefaultAzureCredential\n"
   ]
  },
  {
   "cell_type": "code",
   "execution_count": 2,
   "metadata": {},
   "outputs": [],
   "source": [
    "# enter details of your AML workspace\n",
    "subscription_id = \"ea6d544d-2425-4667-8d38-51f050d9d69e\"\n",
    "resource_group = \"rg-vtpoc-9dev\"\n",
    "workspace = \"mlw-vtpoc-9dev\"\n"
   ]
  },
  {
   "cell_type": "code",
   "execution_count": 3,
   "metadata": {},
   "outputs": [],
   "source": [
    "# get a handle to the workspace\n",
    "ml_client = MLClient(\n",
    "    DefaultAzureCredential(), subscription_id, resource_group, workspace\n",
    ")\n"
   ]
  },
  {
   "cell_type": "code",
   "execution_count": 4,
   "metadata": {},
   "outputs": [
    {
     "name": "stdout",
     "output_type": "stream",
     "text": [
      "endpt-02261734577076\n"
     ]
    }
   ],
   "source": [
    "# Define an endpoint name\n",
    "endpoint_name = \"my-endpoint\"\n",
    "\n",
    "# Example way to define a random name\n",
    "import datetime\n",
    "\n",
    "endpoint_name = \"endpt-\" + datetime.datetime.now().strftime(\"%m%d%H%M%f\")\n",
    "\n",
    "# create an online endpoint\n",
    "endpoint = ManagedOnlineEndpoint(\n",
    "    name=endpoint_name,\n",
    "    description=\"this is a sample online endpoint\",\n",
    "    auth_mode=\"key\",\n",
    "    tags={\"foo\": \"bar\"},\n",
    ")\n",
    "print(endpoint_name)"
   ]
  },
  {
   "cell_type": "code",
   "execution_count": 6,
   "metadata": {},
   "outputs": [],
   "source": [
    "model = Model(path=\"./models/vt-model/model.pkl\")\n",
    "env = Environment(\n",
    "    conda_file=\"../data-science/environment/train-conda.yml\",\n",
    "    image=\"crvtpoc9dev.azurecr.io/local_deploy_img:v1\",\n",
    ")"
   ]
  },
  {
   "cell_type": "code",
   "execution_count": 7,
   "metadata": {},
   "outputs": [],
   "source": [
    "blue_deployment = ManagedOnlineDeployment(\n",
    "    name=\"blue\",\n",
    "    endpoint_name=endpoint_name,\n",
    "    model=model,\n",
    "    environment=env,\n",
    "    code_configuration=CodeConfiguration(\n",
    "        code=\"../mlops/scripts\", scoring_script=\"score.py\"\n",
    "    ),\n",
    "    instance_type=\"Standard_DS3_v2\",\n",
    "    instance_count=1,\n",
    ")"
   ]
  },
  {
   "cell_type": "code",
   "execution_count": 8,
   "metadata": {},
   "outputs": [
    {
     "name": "stderr",
     "output_type": "stream",
     "text": [
      "Creating local endpoint (endpt-02261734577076) .Done (0m 5s)\n"
     ]
    },
    {
     "data": {
      "text/plain": [
       "ManagedOnlineEndpoint({'public_network_access': None, 'provisioning_state': None, 'scoring_uri': None, 'openapi_uri': None, 'name': 'endpt-02261734577076', 'description': 'this is a sample online endpoint', 'tags': {'foo': 'bar'}, 'properties': {}, 'print_as_yaml': True, 'id': None, 'Resource__source_path': None, 'base_path': PosixPath('/Users/amohajerani/.azureml/inferencing/endpt-02261734577076'), 'creation_context': None, 'serialize': <msrest.serialization.Serializer object at 0x119f3fb50>, 'auth_mode': 'key', 'location': None, 'identity': None, 'traffic': {}, 'mirror_traffic': {}, 'kind': None})"
      ]
     },
     "execution_count": 8,
     "metadata": {},
     "output_type": "execute_result"
    }
   ],
   "source": [
    "ml_client.online_endpoints.begin_create_or_update(endpoint, local=True)"
   ]
  },
  {
   "cell_type": "code",
   "execution_count": 10,
   "metadata": {},
   "outputs": [
    {
     "name": "stderr",
     "output_type": "stream",
     "text": [
      "Creating local deployment (endpt-02261734577076 / blue) .\n",
      "Building Docker image from Dockerfile"
     ]
    },
    {
     "name": "stderr",
     "output_type": "stream",
     "text": [
      "\n",
      "Step 1/6 : FROM crvtpoc9dev.azurecr.io/local_deploy_img:v1\n",
      " ---> 847acc328956\n",
      "Step 2/6 : RUN mkdir -p /var/azureml-app/\n",
      " ---> Using cache\n",
      " ---> f4f1617e6935\n",
      "Step 3/6 : WORKDIR /var/azureml-app/\n",
      " ---> Using cache\n",
      " ---> 2db9f7e65d67\n",
      "Step 4/6 : COPY conda.yml /var/azureml-app/\n",
      " ---> Using cache\n",
      " ---> 66793eecef47\n",
      "Step 5/6 : RUN conda env create -n inf-conda-env --file conda.yml\n",
      " ---> Using cache\n",
      " ---> 5fe4af6147fc\n",
      "Step 6/6 : CMD [\"conda\", \"run\", \"--no-capture-output\", \"-n\", \"inf-conda-env\", \"runsvdir\", \"/var/runit\"]\n",
      " ---> Using cache\n",
      " ---> 01462078ac18\n",
      "Successfully built 01462078ac18\n",
      "Successfully tagged endpt-02261734577076:blue\n",
      "\n",
      "Starting up endpoint...Done (0m 20s)\n"
     ]
    },
    {
     "data": {
      "text/plain": [
       "ManagedOnlineDeployment({'private_network_connection': None, 'package_model': False, 'provisioning_state': 'Succeeded', 'endpoint_name': 'endpt-02261734577076', 'type': 'Managed', 'name': 'blue', 'description': None, 'tags': {}, 'properties': {}, 'print_as_yaml': True, 'id': None, 'Resource__source_path': None, 'base_path': PosixPath('/Users/amohajerani/Desktop/code/visit-t-poc/local_deploy'), 'creation_context': None, 'serialize': <msrest.serialization.Serializer object at 0x11a777ad0>, 'model': Model({'job_name': None, 'intellectual_property': None, 'is_anonymous': False, 'auto_increment_version': False, 'auto_delete_setting': None, 'name': '3f6cff285276fcedf4231276ec74eceb', 'description': None, 'tags': {}, 'properties': {}, 'print_as_yaml': True, 'id': None, 'Resource__source_path': None, 'base_path': PosixPath('/Users/amohajerani/Desktop/code/visit-t-poc/local_deploy'), 'creation_context': None, 'serialize': <msrest.serialization.Serializer object at 0x11a79a650>, 'version': '1', 'latest_version': None, 'path': '/Users/amohajerani/Desktop/code/visit-t-poc/local_deploy/models/vt-model/model.pkl', 'datastore': None, 'utc_time_created': None, 'flavors': None, 'arm_type': 'model_version', 'type': 'custom_model', 'stage': None}), 'code_configuration': {'code': '../mlops/scripts'}, 'environment': Environment({'intellectual_property': None, 'is_anonymous': False, 'auto_increment_version': False, 'auto_delete_setting': None, 'name': 'CliV2AnonymousEnvironment', 'description': None, 'tags': {}, 'properties': {}, 'print_as_yaml': True, 'id': None, 'Resource__source_path': None, 'base_path': PosixPath('/Users/amohajerani/Desktop/code/visit-t-poc/local_deploy'), 'creation_context': None, 'serialize': <msrest.serialization.Serializer object at 0x11ad1efd0>, 'version': '461dee2f0726169f95474048060c5cff', 'latest_version': None, 'conda_file': {'channels': ['defaults', 'anaconda', 'conda-forge'], 'dependencies': ['python=3.10', 'pip', {'pip': ['azureml-mlflow', 'azure-ai-ml', 'pyarrow', 'scikit-learn', 'pandas', 'joblib', 'matplotlib', 'xgboost', 'sklearn-pandas', 'azureml-inference-server-http', 'pyodbc', 'git+https://github.com/microsoft/AzureML-Observability#subdirectory=aml-obs-client', 'git+https://github.com/microsoft/AzureML-Observability#subdirectory=aml-obs-collector']}]}, 'image': 'crvtpoc9dev.azurecr.io/local_deploy_img:v1', 'build': None, 'inference_config': None, 'os_type': None, 'arm_type': 'environment_version', 'conda_file_path': None, 'path': None, 'datastore': None, 'upload_hash': None, 'translated_conda_file': 'channels:\\n- defaults\\n- anaconda\\n- conda-forge\\ndependencies:\\n- python=3.10\\n- pip\\n- pip:\\n  - azureml-mlflow\\n  - azure-ai-ml\\n  - pyarrow\\n  - scikit-learn\\n  - pandas\\n  - joblib\\n  - matplotlib\\n  - xgboost\\n  - sklearn-pandas\\n  - azureml-inference-server-http\\n  - pyodbc\\n  - git+https://github.com/microsoft/AzureML-Observability#subdirectory=aml-obs-client\\n  - git+https://github.com/microsoft/AzureML-Observability#subdirectory=aml-obs-collector\\n'}), 'environment_variables': {}, 'app_insights_enabled': False, 'scale_settings': None, 'request_settings': None, 'liveness_probe': None, 'readiness_probe': None, 'instance_count': 1, 'arm_type': 'online_deployment', 'model_mount_path': None, 'instance_type': 'local', 'data_collector': None, 'egress_public_network_access': None})"
      ]
     },
     "execution_count": 10,
     "metadata": {},
     "output_type": "execute_result"
    }
   ],
   "source": [
    "\n",
    "ml_client.online_deployments.begin_create_or_update(\n",
    "    deployment=blue_deployment, local=True\n",
    ")"
   ]
  },
  {
   "cell_type": "code",
   "execution_count": 12,
   "metadata": {},
   "outputs": [
    {
     "data": {
      "text/plain": [
       "ManagedOnlineEndpoint({'public_network_access': None, 'provisioning_state': 'Succeeded', 'scoring_uri': 'http://localhost:32806/score', 'openapi_uri': None, 'name': 'endpt-02261734577076', 'description': 'this is a sample online endpoint', 'tags': {'foo': 'bar'}, 'properties': {}, 'print_as_yaml': True, 'id': None, 'Resource__source_path': None, 'base_path': PosixPath('/Users/amohajerani/Desktop/code/visit-t-poc/local_deploy'), 'creation_context': None, 'serialize': <msrest.serialization.Serializer object at 0x11acd4ad0>, 'auth_mode': 'key', 'location': 'local', 'identity': None, 'traffic': {}, 'mirror_traffic': {}, 'kind': None})"
      ]
     },
     "execution_count": 12,
     "metadata": {},
     "output_type": "execute_result"
    }
   ],
   "source": [
    "ml_client.online_endpoints.get(name=endpoint_name, local=True)\n"
   ]
  },
  {
   "cell_type": "code",
   "execution_count": 14,
   "metadata": {},
   "outputs": [
    {
     "data": {
      "text/plain": [
       "'psutil==5.9.8\\r\\nptyprocess==0.7.0\\r\\npure-eval==0.2.2\\r\\npyarrow==15.0.0\\r\\npyasn1==0.5.1\\r\\npyasn1-modules==0.3.0\\r\\npycparser==2.21\\r\\npydantic==1.10.14\\r\\npydash==7.0.5\\r\\nPygments==2.17.2\\r\\nPyJWT==2.8.0\\r\\npyodbc==5.1.0\\r\\npyparsing==3.1.1\\r\\npython-dateutil==2.8.2\\r\\npytz==2023.4\\r\\nPyYAML==6.0.1\\r\\npyzmq==25.1.2\\r\\nreferencing==0.33.0\\r\\nrequests==2.31.0\\r\\nrequests-oauthlib==1.3.1\\r\\nretrying==1.3.4\\r\\nrpds-py==0.18.0\\r\\nrsa==4.9\\r\\nscikit-learn==1.4.1.post1\\r\\nscipy==1.12.0\\r\\nsix==1.16.0\\r\\nsklearn-pandas==2.2.0\\r\\nsmmap==5.0.1\\r\\nsqlparse==0.4.4\\r\\nstack-data==0.6.3\\r\\nstrictyaml==1.7.3\\r\\ntenacity==8.2.3\\r\\nthreadpoolctl==3.3.0\\r\\ntornado==6.4\\r\\ntqdm==4.66.2\\r\\ntraitlets==5.14.1\\r\\ntyping_extensions==4.9.0\\r\\ntzdata==2024.1\\r\\nurllib3==2.2.1\\r\\nwcwidth==0.2.13\\r\\nWerkzeug==3.0.1\\r\\nwrapt==1.16.0\\r\\nxgboost==2.0.3\\r\\nzipp==3.17.0\\r\\n\\r\\n2024-02-26T22:35:34,972557592+00:00 | gunicorn/run | \\r\\n2024-02-26T22:35:35,005625467+00:00 | gunicorn/run | ###############################################\\r\\n2024-02-26T22:35:35,040891092+00:00 | gunicorn/run | Checking if the Python package azureml-inference-server-http is installed\\r\\n2024-02-26T22:35:35,074875592+00:00 | gunicorn/run | ###############################################\\r\\n2024-02-26T22:35:35,107451634+00:00 | gunicorn/run | \\r\\n'"
      ]
     },
     "execution_count": 14,
     "metadata": {},
     "output_type": "execute_result"
    }
   ],
   "source": [
    "ml_client.online_deployments.get_logs(\n",
    "    name=\"blue\", endpoint_name=endpoint_name, local=True, lines=50\n",
    ")"
   ]
  },
  {
   "cell_type": "code",
   "execution_count": 22,
   "metadata": {},
   "outputs": [
    {
     "data": {
      "text/plain": [
       "'{\"message\": \"An unexpected error occurred in scoring script. Check the logs for more info.\"}'"
      ]
     },
     "execution_count": 22,
     "metadata": {},
     "output_type": "execute_result"
    }
   ],
   "source": [
    "ml_client.online_endpoints.invoke(\n",
    "    endpoint_name=endpoint_name,\n",
    "    request_file=\"../data/test-request.json\",\n",
    "    local=True,\n",
    ")"
   ]
  }
 ],
 "metadata": {
  "kernelspec": {
   "display_name": "Python 3",
   "language": "python",
   "name": "python3"
  },
  "language_info": {
   "codemirror_mode": {
    "name": "ipython",
    "version": 3
   },
   "file_extension": ".py",
   "mimetype": "text/x-python",
   "name": "python",
   "nbconvert_exporter": "python",
   "pygments_lexer": "ipython3",
   "version": "3.11.7"
  }
 },
 "nbformat": 4,
 "nbformat_minor": 2
}
