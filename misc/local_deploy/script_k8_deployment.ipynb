{
 "cells": [
  {
   "cell_type": "code",
   "execution_count": 1,
   "metadata": {},
   "outputs": [],
   "source": [
    "# import required libraries\n",
    "from azure.ai.ml import MLClient\n",
    "from azure.ai.ml.entities import (\n",
    "    KubernetesOnlineEndpoint,\n",
    "    KubernetesOnlineDeployment,\n",
    "    Model,\n",
    "    Environment,\n",
    "    CodeConfiguration,\n",
    ")\n",
    "from azure.identity import DefaultAzureCredential\n"
   ]
  },
  {
   "cell_type": "code",
   "execution_count": 2,
   "metadata": {},
   "outputs": [],
   "source": [
    "# enter details of your AML workspace\n",
    "subscription_id = \"ea6d544d-2425-4667-8d38-51f050d9d69e\"\n",
    "resource_group = \"rg-vtpoc-9dev\"\n",
    "workspace = \"mlw-vtpoc-9dev\"\n"
   ]
  },
  {
   "cell_type": "code",
   "execution_count": 3,
   "metadata": {},
   "outputs": [],
   "source": [
    "# get a handle to the workspace\n",
    "ml_client = MLClient(\n",
    "    DefaultAzureCredential(), subscription_id, resource_group, workspace\n",
    ")\n"
   ]
  },
  {
   "cell_type": "code",
   "execution_count": 5,
   "metadata": {},
   "outputs": [
    {
     "name": "stdout",
     "output_type": "stream",
     "text": [
      "endpt-02282058598660\n"
     ]
    }
   ],
   "source": [
    "# Define an endpoint name\n",
    "endpoint_name = \"my-endpoint\"\n",
    "\n",
    "# Example way to define a random name\n",
    "import datetime\n",
    "\n",
    "endpoint_name = \"endpt-\" + datetime.datetime.now().strftime(\"%m%d%H%M%f\")\n",
    "\n",
    "# create an online endpoint\n",
    "endpoint = KubernetesOnlineEndpoint(\n",
    "    name=endpoint_name,\n",
    "    description=\"this is a sample online endpoint\",\n",
    ")\n",
    "print(endpoint_name)"
   ]
  },
  {
   "cell_type": "code",
   "execution_count": 6,
   "metadata": {},
   "outputs": [
    {
     "name": "stderr",
     "output_type": "stream",
     "text": [
      "Creating local endpoint (endpt-02282058598660) .Done (0m 5s)\n"
     ]
    },
    {
     "data": {
      "text/plain": [
       "ManagedOnlineEndpoint({'public_network_access': None, 'provisioning_state': None, 'scoring_uri': None, 'openapi_uri': None, 'name': 'endpt-02282058598660', 'description': 'this is a sample online endpoint', 'tags': {}, 'properties': {}, 'print_as_yaml': True, 'id': None, 'Resource__source_path': None, 'base_path': PosixPath('/Users/amohajerani/.azureml/inferencing/endpt-02282058598660'), 'creation_context': None, 'serialize': <msrest.serialization.Serializer object at 0x119b46010>, 'auth_mode': 'key', 'location': None, 'identity': None, 'traffic': {}, 'mirror_traffic': {}, 'kind': None})"
      ]
     },
     "execution_count": 6,
     "metadata": {},
     "output_type": "execute_result"
    }
   ],
   "source": [
    "ml_client.online_endpoints.begin_create_or_update(endpoint, local=True)"
   ]
  },
  {
   "cell_type": "code",
   "execution_count": 25,
   "metadata": {},
   "outputs": [],
   "source": [
    "model = Model(path=\"./models/vt-model/model.pkl\")\n",
    "env = Environment(\n",
    "    conda_file=\"../../data-science/environment/train-conda.yml\",\n",
    "    image=\"crvtpoc9dev.azurecr.io/local_deploy_img:v1\",\n",
    ")"
   ]
  },
  {
   "cell_type": "code",
   "execution_count": 26,
   "metadata": {},
   "outputs": [],
   "source": [
    "blue_deployment = KubernetesOnlineDeployment(\n",
    "    name=\"blue\",\n",
    "    endpoint_name=endpoint_name,\n",
    "    model=model,\n",
    "    environment=env,\n",
    "    code_configuration=CodeConfiguration(\n",
    "        code=\"../../mlops/scripts\", scoring_script=\"score.py\"\n",
    "    ),\n",
    "    instance_count=1,\n",
    ")"
   ]
  },
  {
   "cell_type": "code",
   "execution_count": 27,
   "metadata": {},
   "outputs": [
    {
     "name": "stderr",
     "output_type": "stream",
     "text": [
      "Updating local deployment (endpt-02282058598660 / blue) .\n",
      "Building Docker image from Dockerfile\n",
      "Step 1/6 : FROM crvtpoc9dev.azurecr.io/local_deploy_img:v1\n",
      " ---> 847acc328956\n",
      "Step 2/6 : RUN mkdir -p /var/azureml-app/\n",
      " ---> Using cache\n",
      " ---> b62640db02bf\n",
      "Step 3/6 : WORKDIR /var/azureml-app/\n",
      " ---> Using cache\n",
      " ---> f364f9adf4cd\n",
      "Step 4/6 : COPY conda.yml /var/azureml-app/\n",
      " ---> Using cache\n",
      " ---> 78d12a42a069\n",
      "Step 5/6 : RUN conda env create -n inf-conda-env --file conda.yml\n",
      " ---> Using cache\n",
      " ---> 59fbb4e596fe\n",
      "Step 6/6 : CMD [\"conda\", \"run\", \"--no-capture-output\", \"-n\", \"inf-conda-env\", \"runsvdir\", \"/var/runit\"]\n",
      " ---> Using cache\n",
      " ---> c0ab499e1a36\n",
      "Successfully built c0ab499e1a36\n",
      "Successfully tagged endpt-02282058598660:blue\n",
      "\n",
      "Starting up endpoint.....Done (0m 30s)\n"
     ]
    },
    {
     "data": {
      "text/plain": [
       "KubernetesOnlineDeployment({'provisioning_state': 'Succeeded', 'endpoint_name': 'endpt-02282058598660', 'type': 'Kubernetes', 'name': 'blue', 'description': None, 'tags': {}, 'properties': {}, 'print_as_yaml': True, 'id': None, 'Resource__source_path': None, 'base_path': PosixPath('/Users/amohajerani/Desktop/code/visit-t-poc/local_deploy'), 'creation_context': None, 'serialize': <msrest.serialization.Serializer object at 0x11c8787d0>, 'model': Model({'job_name': None, 'intellectual_property': None, 'is_anonymous': False, 'auto_increment_version': False, 'auto_delete_setting': None, 'name': '2fbc54b506f55723f0d238d0ea428147', 'description': None, 'tags': {}, 'properties': {}, 'print_as_yaml': True, 'id': None, 'Resource__source_path': None, 'base_path': PosixPath('/Users/amohajerani/Desktop/code/visit-t-poc/local_deploy'), 'creation_context': None, 'serialize': <msrest.serialization.Serializer object at 0x11c8b2b50>, 'version': '1', 'latest_version': None, 'path': '/Users/amohajerani/Desktop/code/visit-t-poc/local_deploy/models/vt-model/model.pkl', 'datastore': None, 'utc_time_created': None, 'flavors': None, 'arm_type': 'model_version', 'type': 'custom_model', 'stage': None}), 'code_configuration': {'code': '../mlops/scripts'}, 'environment': Environment({'intellectual_property': None, 'is_anonymous': False, 'auto_increment_version': False, 'auto_delete_setting': None, 'name': 'CliV2AnonymousEnvironment', 'description': None, 'tags': {}, 'properties': {}, 'print_as_yaml': True, 'id': None, 'Resource__source_path': None, 'base_path': PosixPath('/Users/amohajerani/Desktop/code/visit-t-poc/local_deploy'), 'creation_context': None, 'serialize': <msrest.serialization.Serializer object at 0x11c8d0b90>, 'version': '461dee2f0726169f95474048060c5cff', 'latest_version': None, 'conda_file': {'channels': ['defaults', 'anaconda', 'conda-forge'], 'dependencies': ['python=3.10', 'pip', {'pip': ['azureml-mlflow', 'azure-ai-ml', 'pyarrow', 'scikit-learn', 'pandas', 'joblib', 'matplotlib', 'xgboost', 'sklearn-pandas', 'azureml-inference-server-http', 'pyodbc', 'git+https://github.com/microsoft/AzureML-Observability#subdirectory=aml-obs-client', 'git+https://github.com/microsoft/AzureML-Observability#subdirectory=aml-obs-collector']}]}, 'image': 'crvtpoc9dev.azurecr.io/local_deploy_img:v1', 'build': None, 'inference_config': None, 'os_type': None, 'arm_type': 'environment_version', 'conda_file_path': None, 'path': None, 'datastore': None, 'upload_hash': None, 'translated_conda_file': 'channels:\\n- defaults\\n- anaconda\\n- conda-forge\\ndependencies:\\n- python=3.10\\n- pip\\n- pip:\\n  - azureml-mlflow\\n  - azure-ai-ml\\n  - pyarrow\\n  - scikit-learn\\n  - pandas\\n  - joblib\\n  - matplotlib\\n  - xgboost\\n  - sklearn-pandas\\n  - azureml-inference-server-http\\n  - pyodbc\\n  - git+https://github.com/microsoft/AzureML-Observability#subdirectory=aml-obs-client\\n  - git+https://github.com/microsoft/AzureML-Observability#subdirectory=aml-obs-collector\\n'}), 'environment_variables': {}, 'app_insights_enabled': False, 'scale_settings': None, 'request_settings': None, 'liveness_probe': None, 'readiness_probe': None, 'instance_count': 1, 'arm_type': 'online_deployment', 'model_mount_path': None, 'instance_type': 'local', 'data_collector': None, 'resources': None})"
      ]
     },
     "execution_count": 27,
     "metadata": {},
     "output_type": "execute_result"
    }
   ],
   "source": [
    "\n",
    "ml_client.online_deployments.begin_create_or_update(\n",
    "    deployment=blue_deployment, local=True\n",
    ")"
   ]
  },
  {
   "cell_type": "code",
   "execution_count": 31,
   "metadata": {},
   "outputs": [
    {
     "data": {
      "text/plain": [
       "ManagedOnlineEndpoint({'public_network_access': None, 'provisioning_state': 'Succeeded', 'scoring_uri': 'http://localhost:32781/score', 'openapi_uri': None, 'name': 'endpt-02282058598660', 'description': 'this is a sample online endpoint', 'tags': {}, 'properties': {}, 'print_as_yaml': True, 'id': None, 'Resource__source_path': None, 'base_path': PosixPath('/Users/amohajerani/Desktop/code/visit-t-poc/local_deploy'), 'creation_context': None, 'serialize': <msrest.serialization.Serializer object at 0x11c90aed0>, 'auth_mode': 'key', 'location': 'local', 'identity': None, 'traffic': {}, 'mirror_traffic': {}, 'kind': None})"
      ]
     },
     "execution_count": 31,
     "metadata": {},
     "output_type": "execute_result"
    }
   ],
   "source": [
    "ml_client.online_endpoints.get(name=endpoint_name, local=True)\n"
   ]
  },
  {
   "cell_type": "code",
   "execution_count": 34,
   "metadata": {},
   "outputs": [
    {
     "data": {
      "text/plain": [
       "'2024-02-29T02:49:53,250907637+00:00 | gunicorn/run | \\r\\n2024-02-29T02:49:53,281944137+00:00 | gunicorn/run | ###############################################\\r\\n2024-02-29T02:49:53,314129679+00:00 | gunicorn/run | AzureML Inference Server\\r\\n2024-02-29T02:49:53,350316637+00:00 | gunicorn/run | ###############################################\\r\\n2024-02-29T02:49:53,381935429+00:00 | gunicorn/run | \\r\\n2024-02-29T02:49:59,946311834+00:00 | gunicorn/run | Starting AzureML Inference Server HTTP.\\r\\n2024-02-29 02:50:01,002 I [59] azmlinfsrv - Loaded logging config from /opt/miniconda/envs/inf-conda-env/lib/python3.10/site-packages/azureml_inference_server_http/logging.json\\r\\n\\r\\nAzure ML Inferencing HTTP server v1.0.0\\r\\n\\r\\n\\r\\nServer Settings\\r\\n---------------\\r\\nEntry Script Name: /var/azureml-app/scripts/score.py\\r\\nModel Directory: /var/azureml-app/azureml-models//2fbc54b506f55723f0d238d0ea428147/1\\r\\nConfig File: None\\r\\nWorker Count: 1\\r\\nWorker Timeout (seconds): 300\\r\\nServer Port: 31311\\r\\nHealth Port: 31311\\r\\nApplication Insights Enabled: false\\r\\nApplication Insights Key: None\\r\\nInferencing HTTP server version: azmlinfsrv/1.0.0\\r\\nCORS for the specified origins: None\\r\\nCreate dedicated endpoint for health: None\\r\\n\\r\\n\\r\\nServer Routes\\r\\n---------------\\r\\nLiveness Probe: GET   127.0.0.1:31311/\\r\\nScore:          POST  127.0.0.1:31311/score\\r\\n\\r\\n2024-02-29 02:50:01,423 I [59] gunicorn.error - Starting gunicorn 20.1.0\\r\\n2024-02-29 02:50:01,428 I [59] gunicorn.error - Listening at: http://0.0.0.0:31311 (59)\\r\\n2024-02-29 02:50:01,428 I [59] gunicorn.error - Using worker: sync\\r\\n2024-02-29 02:50:01,439 I [245] gunicorn.error - Booting worker with pid: 245\\r\\n2024-02-29 02:50:02,911 I [245] azmlinfsrv - AML_FLASK_ONE_COMPATIBILITY is set. Patched Flask to ensure compatibility with Flask 1.\\r\\nInitializing logger\\r\\n2024-02-29 02:50:02,925 I [245] azmlinfsrv - Starting up app insights client\\r\\n<jemalloc>: MADV_DONTNEED does not work (memset will be used instead)\\r\\n<jemalloc>: (This is the expected behaviour if you are running under QEMU)\\r\\n2024-02-29 02:50:06,028 I [245] azmlinfsrv.user_script - Found user script at /var/azureml-app/scripts/score.py\\r\\n2024-02-29 02:50:06,029 I [245] azmlinfsrv.user_script - run() is not decorated. Server will invoke it with the input in JSON string.\\r\\n2024-02-29 02:50:06,029 I [245] azmlinfsrv.user_script - Invoking user\\'s init function\\r\\n2024-02-29 02:50:09,133 I [245] azmlinfsrv.user_script - Users\\'s init has completed successfully\\r\\n2024-02-29 02:50:09,145 I [245] azmlinfsrv.swagger - Swaggers are prepared for the following versions: [2, 3, 3.1].\\r\\n2024-02-29 02:50:09,145 I [245] azmlinfsrv - Scoring timeout is set to 3600000\\r\\n2024-02-29 02:50:09,145 I [245] azmlinfsrv - Worker with pid 245 ready for serving traffic\\r\\n2024-02-29 02:50:17,082 I [245] azmlinfsrv - POST /score 200 1309.938ms 38\\r\\n2024-02-29 02:50:17,087 I [245] gunicorn.access - 127.0.0.1 - - [29/Feb/2024:02:50:17 +0000] \"POST /score HTTP/1.0\" 200 38 \"-\" \"azure-ai-ml/1.12.1 azsdk-python-core/1.29.7 Python/3.11.7 (macOS-14.3.1-arm64-arm-64bit)\"\\r\\n'"
      ]
     },
     "execution_count": 34,
     "metadata": {},
     "output_type": "execute_result"
    }
   ],
   "source": [
    "ml_client.online_deployments.get_logs(\n",
    "    name=\"blue\", endpoint_name=endpoint_name, local=True, lines=50\n",
    ")"
   ]
  },
  {
   "cell_type": "code",
   "execution_count": 33,
   "metadata": {},
   "outputs": [
    {
     "data": {
      "text/plain": [
       "'[30.32259750366211, 29.90568733215332]'"
      ]
     },
     "execution_count": 33,
     "metadata": {},
     "output_type": "execute_result"
    }
   ],
   "source": [
    "ml_client.online_endpoints.invoke(\n",
    "    endpoint_name=endpoint_name,\n",
    "    request_file=\"../../data/test-request.json\",\n",
    "    local=True,\n",
    ")"
   ]
  },
  {
   "cell_type": "code",
   "execution_count": 37,
   "metadata": {},
   "outputs": [],
   "source": [
    "# let's deploy in the cloud . We should delete the reaming code later on\n",
    "# Creating a unique endpoint name with current datetime to avoid conflicts\n",
    "import datetime\n",
    "\n",
    "online_endpoint_name = \"k8s-endpoint-\" + datetime.datetime.now().strftime(\"%m%d%H%M%f\")\n",
    "\n",
    "# create an online endpoint\n",
    "endpoint = KubernetesOnlineEndpoint(\n",
    "    name=online_endpoint_name,\n",
    "    compute=\"aks-dev\",\n",
    "    description=\"this is a sample online endpoint\",\n",
    "    auth_mode=\"key\",\n",
    "    tags={\"foo\": \"bar\"},\n",
    ")"
   ]
  },
  {
   "cell_type": "code",
   "execution_count": 38,
   "metadata": {},
   "outputs": [
    {
     "data": {
      "text/plain": [
       "KubernetesOnlineEndpoint({'provisioning_state': 'Succeeded', 'scoring_uri': 'http://4.149.66.177/api/v1/endpoint/k8s-endpoint-02282157694833/score', 'openapi_uri': 'http://4.149.66.177/api/v1/endpoint/k8s-endpoint-02282157694833/swagger.json', 'name': 'k8s-endpoint-02282157694833', 'description': 'this is a sample online endpoint', 'tags': {'foo': 'bar'}, 'properties': {'azureml.onlineendpointid': '/subscriptions/ea6d544d-2425-4667-8d38-51f050d9d69e/resourcegroups/rg-vtpoc-9dev/providers/microsoft.machinelearningservices/workspaces/mlw-vtpoc-9dev/onlineendpoints/k8s-endpoint-02282157694833', 'AzureAsyncOperationUri': 'https://management.azure.com/subscriptions/ea6d544d-2425-4667-8d38-51f050d9d69e/providers/Microsoft.MachineLearningServices/locations/eastus/mfeOperationsStatus/oe:82335111-e642-4809-92c0-ac1e65471504:39a1ec80-aa93-468f-aa2a-68914faa422d?api-version=2022-02-01-preview'}, 'print_as_yaml': True, 'id': '/subscriptions/ea6d544d-2425-4667-8d38-51f050d9d69e/resourceGroups/rg-vtpoc-9dev/providers/Microsoft.MachineLearningServices/workspaces/mlw-vtpoc-9dev/onlineEndpoints/k8s-endpoint-02282157694833', 'Resource__source_path': None, 'base_path': '/Users/amohajerani/Desktop/code/visit-t-poc/local_deploy', 'creation_context': None, 'serialize': <msrest.serialization.Serializer object at 0x11d051810>, 'auth_mode': 'key', 'location': 'eastus', 'identity': <azure.ai.ml.entities._credentials.IdentityConfiguration object at 0x11d051150>, 'traffic': {}, 'mirror_traffic': {}, 'kind': 'K8S', 'compute': '/subscriptions/ea6d544d-2425-4667-8d38-51f050d9d69e/resourceGroups/rg-vtpoc-9dev/providers/Microsoft.MachineLearningServices/workspaces/mlw-vtpoc-9dev/computes/aks-dev'})"
      ]
     },
     "execution_count": 38,
     "metadata": {},
     "output_type": "execute_result"
    }
   ],
   "source": [
    "ml_client.begin_create_or_update(endpoint).result()"
   ]
  },
  {
   "cell_type": "code",
   "execution_count": 39,
   "metadata": {},
   "outputs": [],
   "source": [
    "from azure.ai.ml.entities._deployment.resource_requirements_settings import (\n",
    "    ResourceRequirementsSettings,\n",
    ")\n",
    "from azure.ai.ml.entities._deployment.container_resource_settings import (\n",
    "    ResourceSettings,\n",
    ")\n",
    "\n",
    "\n",
    "blue_deployment = KubernetesOnlineDeployment(\n",
    "    name=\"blue\",\n",
    "    endpoint_name=online_endpoint_name,\n",
    "    model=model,\n",
    "    environment=env,\n",
    "    code_configuration=CodeConfiguration(\n",
    "        code=\"../../mlops/scripts\", scoring_script=\"score.py\"\n",
    "    ),\n",
    "    instance_count=1,\n",
    "    resources=ResourceRequirementsSettings(\n",
    "        requests=ResourceSettings(\n",
    "            cpu=\"100m\",\n",
    "            memory=\"0.5Gi\",\n",
    "        ),\n",
    "    ),\n",
    ")"
   ]
  },
  {
   "cell_type": "code",
   "execution_count": 40,
   "metadata": {},
   "outputs": [
    {
     "name": "stderr",
     "output_type": "stream",
     "text": [
      "Check: endpoint k8s-endpoint-02282157694833 exists\n",
      "\u001b[32mUploading scripts (0.03 MBs): 100%|██████████| 31152/31152 [00:00<00:00, 95593.53it/s]\n",
      "\u001b[39m\n",
      "\n",
      "\u001b[32mUploading model.pkl\u001b[32m (< 1 MB): 100%|██████████| 190k/190k [00:00<00:00, 831kB/s]\n",
      "\u001b[39m\n",
      "\n"
     ]
    },
    {
     "name": "stdout",
     "output_type": "stream",
     "text": [
      "................................................................................................................................................................."
     ]
    },
    {
     "data": {
      "text/plain": [
       "KubernetesOnlineDeployment({'provisioning_state': 'Succeeded', 'endpoint_name': 'k8s-endpoint-02282157694833', 'type': 'Kubernetes', 'name': 'blue', 'description': None, 'tags': {}, 'properties': {'AzureAsyncOperationUri': 'https://management.azure.com/subscriptions/ea6d544d-2425-4667-8d38-51f050d9d69e/providers/Microsoft.MachineLearningServices/locations/eastus/mfeOperationsStatus/od:82335111-e642-4809-92c0-ac1e65471504:51d94e60-ba41-47b6-9942-0bd6cf7be030?api-version=2023-04-01-preview'}, 'print_as_yaml': True, 'id': '/subscriptions/ea6d544d-2425-4667-8d38-51f050d9d69e/resourceGroups/rg-vtpoc-9dev/providers/Microsoft.MachineLearningServices/workspaces/mlw-vtpoc-9dev/onlineEndpoints/k8s-endpoint-02282157694833/deployments/blue', 'Resource__source_path': None, 'base_path': '/Users/amohajerani/Desktop/code/visit-t-poc/local_deploy', 'creation_context': None, 'serialize': <msrest.serialization.Serializer object at 0x11cfc8410>, 'model': '/subscriptions/ea6d544d-2425-4667-8d38-51f050d9d69e/resourceGroups/rg-vtpoc-9dev/providers/Microsoft.MachineLearningServices/workspaces/mlw-vtpoc-9dev/models/2fbc54b506f55723f0d238d0ea428147/versions/1', 'code_configuration': {'code': '/subscriptions/ea6d544d-2425-4667-8d38-51f050d9d69e/resourceGroups/rg-vtpoc-9dev/providers/Microsoft.MachineLearningServices/workspaces/mlw-vtpoc-9dev/codes/b8a51e94-c89a-4ef1-b411-395949bfa198/versions/1'}, 'environment': '/subscriptions/ea6d544d-2425-4667-8d38-51f050d9d69e/resourceGroups/rg-vtpoc-9dev/providers/Microsoft.MachineLearningServices/workspaces/mlw-vtpoc-9dev/environments/CliV2AnonymousEnvironment/versions/461dee2f0726169f95474048060c5cff', 'environment_variables': {}, 'app_insights_enabled': False, 'scale_settings': <azure.ai.ml.entities._deployment.scale_settings.TargetUtilizationScaleSettings object at 0x119b2af90>, 'request_settings': <azure.ai.ml.entities._deployment.deployment_settings.OnlineRequestSettings object at 0x11c8d8650>, 'liveness_probe': <azure.ai.ml.entities._deployment.deployment_settings.ProbeSettings object at 0x11d04b690>, 'readiness_probe': <azure.ai.ml.entities._deployment.deployment_settings.ProbeSettings object at 0x11d04a410>, 'instance_count': None, 'arm_type': 'online_deployment', 'model_mount_path': None, 'instance_type': None, 'data_collector': None, 'resources': <azure.ai.ml.entities._deployment.resource_requirements_settings.ResourceRequirementsSettings object at 0x11c9601d0>})"
      ]
     },
     "execution_count": 40,
     "metadata": {},
     "output_type": "execute_result"
    }
   ],
   "source": [
    "ml_client.begin_create_or_update(blue_deployment).result()"
   ]
  },
  {
   "cell_type": "code",
   "execution_count": 41,
   "metadata": {},
   "outputs": [
    {
     "data": {
      "text/plain": [
       "KubernetesOnlineEndpoint({'provisioning_state': 'Succeeded', 'scoring_uri': 'http://4.149.66.177/api/v1/endpoint/k8s-endpoint-02282157694833/score', 'openapi_uri': 'http://4.149.66.177/api/v1/endpoint/k8s-endpoint-02282157694833/swagger.json', 'name': 'k8s-endpoint-02282157694833', 'description': 'this is a sample online endpoint', 'tags': {'foo': 'bar'}, 'properties': {'azureml.onlineendpointid': '/subscriptions/ea6d544d-2425-4667-8d38-51f050d9d69e/resourcegroups/rg-vtpoc-9dev/providers/microsoft.machinelearningservices/workspaces/mlw-vtpoc-9dev/onlineendpoints/k8s-endpoint-02282157694833', 'AzureAsyncOperationUri': 'https://management.azure.com/subscriptions/ea6d544d-2425-4667-8d38-51f050d9d69e/providers/Microsoft.MachineLearningServices/locations/eastus/mfeOperationsStatus/oe:82335111-e642-4809-92c0-ac1e65471504:ba9e0bd4-89cb-4425-9e0a-a9e29d6d448d?api-version=2022-02-01-preview'}, 'print_as_yaml': True, 'id': '/subscriptions/ea6d544d-2425-4667-8d38-51f050d9d69e/resourceGroups/rg-vtpoc-9dev/providers/Microsoft.MachineLearningServices/workspaces/mlw-vtpoc-9dev/onlineEndpoints/k8s-endpoint-02282157694833', 'Resource__source_path': None, 'base_path': '/Users/amohajerani/Desktop/code/visit-t-poc/local_deploy', 'creation_context': None, 'serialize': <msrest.serialization.Serializer object at 0x1185d2550>, 'auth_mode': 'key', 'location': 'eastus', 'identity': <azure.ai.ml.entities._credentials.IdentityConfiguration object at 0x11c646910>, 'traffic': {'blue': 100}, 'mirror_traffic': {}, 'kind': 'K8S', 'compute': '/subscriptions/ea6d544d-2425-4667-8d38-51f050d9d69e/resourceGroups/rg-vtpoc-9dev/providers/Microsoft.MachineLearningServices/workspaces/mlw-vtpoc-9dev/computes/aks-dev'})"
      ]
     },
     "execution_count": 41,
     "metadata": {},
     "output_type": "execute_result"
    }
   ],
   "source": [
    "# blue deployment takes 100 traffic\n",
    "endpoint.traffic = {\"blue\": 100}\n",
    "ml_client.begin_create_or_update(endpoint).result()"
   ]
  },
  {
   "cell_type": "code",
   "execution_count": 44,
   "metadata": {},
   "outputs": [
    {
     "data": {
      "text/plain": [
       "'[30.32259750366211, 29.90568733215332]'"
      ]
     },
     "execution_count": 44,
     "metadata": {},
     "output_type": "execute_result"
    }
   ],
   "source": [
    "\n",
    "\n",
    "ml_client.online_endpoints.invoke(\n",
    "   endpoint_name=online_endpoint_name,\n",
    "   deployment_name='blue',\n",
    "   request_file='../../data/test-request.json')"
   ]
  }
 ],
 "metadata": {
  "kernelspec": {
   "display_name": "Python 3",
   "language": "python",
   "name": "python3"
  },
  "language_info": {
   "codemirror_mode": {
    "name": "ipython",
    "version": 3
   },
   "file_extension": ".py",
   "mimetype": "text/x-python",
   "name": "python",
   "nbconvert_exporter": "python",
   "pygments_lexer": "ipython3",
   "version": "3.11.7"
  }
 },
 "nbformat": 4,
 "nbformat_minor": 2
}
